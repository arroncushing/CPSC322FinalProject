{
 "metadata": {
  "language_info": {
   "codemirror_mode": {
    "name": "ipython",
    "version": 3
   },
   "file_extension": ".py",
   "mimetype": "text/x-python",
   "name": "python",
   "nbconvert_exporter": "python",
   "pygments_lexer": "ipython3",
   "version": "3.9.1"
  },
  "orig_nbformat": 2,
  "kernelspec": {
   "name": "python391jvsc74a57bd0ec74bf9f5a98a49aebf8dc0a300c1facd3c4b7142ded876ed4d26d05131dc526",
   "display_name": "Python 3.9.1 64-bit"
  },
  "metadata": {
   "interpreter": {
    "hash": "ec74bf9f5a98a49aebf8dc0a300c1facd3c4b7142ded876ed4d26d05131dc526"
   }
  }
 },
 "nbformat": 4,
 "nbformat_minor": 2,
 "cells": [
  {
   "source": [
    "# Chess Opening Analysis\n",
    "Arron Cushing, Connor Ffrench"
   ],
   "cell_type": "markdown",
   "metadata": {}
  },
  {
   "source": [
    "## Dataset Description\n",
    "\n",
    "Our dataset consists of 20,000 games collected from users on Lichess.org, a free online chess website.\n",
    "\n",
    "This dataset contains the name of the opening played in the game, the moves played during the game, the usernames of both players who played the game, the number of turns the game lasted, which player won the game, the method by which the player won the game, the increment code for the time control used for the game, the ratings of both players, and whether the game was rated or not.\n",
    "\n",
    "Our goal is to predict, based on a combination of rating differential, opening played, and increment code,\n",
    "whether one side or the other would win, or if a draw would be likely."
   ],
   "cell_type": "markdown",
   "metadata": {}
  },
  {
   "source": [
    "## Implementation/Technical Merit\n",
    "\n",
    "Because our dataset contains more than 20,000 games of chess, we will have to trim the dataset. We plan to remove games that are meaningless, such as those that are aborted after one move or those with large rating differentials, and some variations of openings due to the large number of openings and variations on those openings.\n",
    "\n",
    "If the dataset is still too large after this filtering, we could further trim the dataset by using our chess knowledge to remove games that may be unnecessary for our predictor."
   ],
   "cell_type": "markdown",
   "metadata": {}
  },
  {
   "source": [
    "## Results/Impact\n",
    "\n",
    "These results are useful because a newer chess player could use them to learn what openings are good, or what are not good, based on their skill level and study those openings to improve. Additionally, more advanced players could use them to learn a new opening that could give them the highest chances of success at their skill level.\n",
    "\n",
    "All chess players are stakeholders in this project because the results from this analysis could help them improve at the game or learn a new opening to try out in one of their games."
   ],
   "cell_type": "markdown",
   "metadata": {}
  }
 ]
}